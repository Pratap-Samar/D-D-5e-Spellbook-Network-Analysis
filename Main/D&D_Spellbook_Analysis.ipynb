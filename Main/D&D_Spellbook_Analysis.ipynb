# **D&D Spellbook Network Analysis**
Installing pyvis
!pip install pyvis
Importing Pandas and network
import pandas as pd
import networkx as nx
Loading dataset into pandas
df = pd.read_csv('dnd-spells.csv')
df.head()
Seperating classes and ignoring cloumns we dont need
df['classes_list'] = df['classes'].str.split(', ')
columns_to_keep = ['name', 'classes', 'classes_list', 'school']
df = df[columns_to_keep]
df.head()
Graph Creation
1. add spells as nodes.
2. using school as a basis to apply different color on spells.
3. Add edges for spells with atleast 4 common class.

 G = nx.Graph()

for index, row in df.iterrows():
    G.add_node(row['name'], school=row['school'])

spells = list(df['name'])
for i in range(len(spells)):
    for j in range(i + 1, len(spells)):
        spell1_name = spells[i]
        spell2_name = spells[j]
        spell1_classes = df.loc[df['name'] == spell1_name, 'classes_list'].iloc[0]
        spell2_classes = df.loc[df['name'] == spell2_name, 'classes_list'].iloc[0]

        common_classes = set(spell1_classes) & set(spell2_classes)

        if len(common_classes) >= 4:
            G.add_edge(spell1_name, spell2_name)

print(f"Refined Graph created with {G.number_of_nodes()} nodes and {G.number_of_edges()} edges.")
Create a dictionary to map each school of magic to a color
# Find all the unique values in the 'school' column
unique_schools = df['school'].unique()

print("All unique schools of magic found in the dataset:")
print(unique_schools)

color_palette = [
    '#ff69b4', '#00bfff', '#ff4500', '#dc143c',
    '#9932cc', '#006400', '#ffd700', '#ffffff'
]

# This pairs each school with a color from our palette
color_map = {school: color for school, color in zip(unique_schools, color_palette)}

print("color map:")
for school, color in color_map.items():
    print(f"{school}: {color}")

for node in G.nodes():
    school = G.nodes[node]['school']
    G.nodes[node]['color'] = color_map.get(school, '#cccccc')
from pyvis.network import Network

net_virtual = Network(
    notebook=True,
    height="800px",
    width="100%",
    bgcolor="#222222",
    font_color="white",
    cdn_resources='in_line'
)


net_virtual.from_nx(G)

net_virtual.solver = "forceAtlas2Based"
net_virtual.force_atlas_2based(gravity=-80, spring_length=150)

# Save the final colored graph
net_virtual.save_graph("spell_network.html")

print("Final colored graph 'spell_network.html' has been saved. Please download and open it.")
